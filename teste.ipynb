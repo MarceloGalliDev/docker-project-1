{
 "cells": [
  {
   "cell_type": "code",
   "execution_count": 2,
   "metadata": {},
   "outputs": [
    {
     "data": {
      "text/plain": [
       "{x: -20, y: 160}"
      ]
     },
     "execution_count": 2,
     "metadata": {},
     "output_type": "execute_result"
    }
   ],
   "source": [
    "from sympy import symbols, Eq, solve\n",
    "\n",
    "# Definindo as variáveis\n",
    "x, y = symbols('x y')\n",
    "\n",
    "# Equações que representam as restrições\n",
    "equation1 = Eq(2*x + y, 120)\n",
    "equation2 = Eq(3*x + y, 100)\n",
    "\n",
    "# Encontrando o ponto de interseção das duas linhas\n",
    "intersection_point = solve((equation1, equation2), (x, y))\n",
    "\n",
    "intersection_point\n"
   ]
  }
 ],
 "metadata": {
  "kernelspec": {
   "display_name": ".venv",
   "language": "python",
   "name": "python3"
  },
  "language_info": {
   "codemirror_mode": {
    "name": "ipython",
    "version": 3
   },
   "file_extension": ".py",
   "mimetype": "text/x-python",
   "name": "python",
   "nbconvert_exporter": "python",
   "pygments_lexer": "ipython3",
   "version": "3.12.2"
  }
 },
 "nbformat": 4,
 "nbformat_minor": 2
}
